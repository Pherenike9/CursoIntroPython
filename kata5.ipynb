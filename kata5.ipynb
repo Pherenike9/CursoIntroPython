{
 "cells": [
  {
   "cell_type": "markdown",
   "metadata": {},
   "source": [
    "## Ejercicio1 - Utilizar operadores aritméticos\n",
    "Exploremos cómo podemos crear un programa que pueda calcular la distancia entre dos planetas. Comenzaremos usando dos distancias de planetas: Tierra (149.597.870 km) y Júpiter (778.547.200 km)."
   ]
  },
  {
   "cell_type": "code",
   "execution_count": 16,
   "metadata": {},
   "outputs": [],
   "source": [
    "# Crear variables para almacenar las dos distancias\n",
    "# ¡Asegúrate de quitar las comas!\n",
    "Tierra = 149597870\n",
    "Jupiter = 778547200"
   ]
  },
  {
   "cell_type": "markdown",
   "metadata": {},
   "source": [
    "Restarás el primer planeta del segundo para determinar la distancia en kilómetros. A continuación, puedes convertir la distancia del kilómetro en millas multiplicándola por 0.621."
   ]
  },
  {
   "cell_type": "code",
   "execution_count": 17,
   "metadata": {},
   "outputs": [
    {
     "name": "stdout",
     "output_type": "stream",
     "text": [
      "628949330\n",
      "390577533.93\n"
     ]
    }
   ],
   "source": [
    "Distancia = Tierra - Jupiter\n",
    "print(abs(Distancia))\n",
    "print(abs(Distancia*0.621))\n",
    "\n"
   ]
  },
  {
   "cell_type": "markdown",
   "metadata": {},
   "source": [
    "## Ejercicio 2: convierte cadenas en números y usa valores absolutos"
   ]
  },
  {
   "cell_type": "code",
   "execution_count": 14,
   "metadata": {},
   "outputs": [
    {
     "name": "stdout",
     "output_type": "stream",
     "text": [
      "La distancia entre los plnetas es  50300000 km\n"
     ]
    }
   ],
   "source": [
    "# Almacenar las entradas del usuario\n",
    "#Pista: variable = input(\"¿Cuál es tu nombre?\")\n",
    "Planeta1 = input(\"Nombre del planeta 1\")\n",
    "distanciaPlaneta1 = input(\"¿Cuál es su distancia?\")\n",
    "Planeta2 = input(\"Nombre del planeta 2\")\n",
    "distanciaPlaneta2 = input(\"¿Cuál es su distancia?\")\n",
    "# Convierte las cadenas de ambos planetas a números enteros\n",
    "distanciaPlaneta1 = int(distanciaPlaneta1)\n",
    "distanciaPlaneta2 = int(distanciaPlaneta2)\n",
    "# Realizar el cálculo y determinar el valor absoluto\n",
    "diferencia = abs(distanciaPlaneta1 - distanciaPlaneta2)\n",
    "print(f'La distancia entre los plnetas es  {diferencia} km')\n"
   ]
  },
  {
   "cell_type": "code",
   "execution_count": 15,
   "metadata": {},
   "outputs": [
    {
     "name": "stdout",
     "output_type": "stream",
     "text": [
      "La distancia entre los plnetas es  31236300.0 millas\n"
     ]
    }
   ],
   "source": [
    "# Convertir de KM a Millas\n",
    "diferenciamillas = diferencia * 0.621\n",
    "print(f'La distancia entre los plnetas es  {diferenciamillas} millas')\n"
   ]
  }
 ],
 "metadata": {
  "interpreter": {
   "hash": "ecaf39059a5b5285570fd7ed435b7540c898c0cca20591b5f0e75624de01b87f"
  },
  "kernelspec": {
   "display_name": "Python 3.10.2 64-bit",
   "language": "python",
   "name": "python3"
  },
  "language_info": {
   "codemirror_mode": {
    "name": "ipython",
    "version": 3
   },
   "file_extension": ".py",
   "mimetype": "text/x-python",
   "name": "python",
   "nbconvert_exporter": "python",
   "pygments_lexer": "ipython3",
   "version": "3.10.2"
  },
  "orig_nbformat": 4
 },
 "nbformat": 4,
 "nbformat_minor": 2
}
