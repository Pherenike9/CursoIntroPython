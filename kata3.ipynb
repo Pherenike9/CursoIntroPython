{
 "cells": [
  {
   "cell_type": "markdown",
   "metadata": {},
   "source": [
    "## Problema 1"
   ]
  },
  {
   "cell_type": "code",
   "execution_count": 2,
   "metadata": {},
   "outputs": [
    {
     "name": "stdout",
     "output_type": "stream",
     "text": [
      "Un asteroide se acerca\n"
     ]
    }
   ],
   "source": [
    "velAsteriode = 49 #km/h\n",
    "if velAsteriode > 25 :\n",
    "    print(\"Un asteroide se acerca\")\n",
    "else: print(\"Puedes seguir con tus actividades\")\n",
    "\n"
   ]
  },
  {
   "cell_type": "markdown",
   "metadata": {},
   "source": [
    "## Problema 2"
   ]
  },
  {
   "cell_type": "code",
   "execution_count": 9,
   "metadata": {},
   "outputs": [
    {
     "name": "stdout",
     "output_type": "stream",
     "text": [
      "Puedes seguir con tus actividades\n"
     ]
    }
   ],
   "source": [
    "velAsteriode = 19 #km/h\n",
    "if velAsteriode >= 20 :\n",
    "    print(\"Hay un rayo de luz\")\n",
    "elif velAsteriode == 20:\n",
    "    print(\"Hay un rayo de luz\")  \n",
    "else: print(\"Puedes seguir con tus actividades\")"
   ]
  },
  {
   "cell_type": "markdown",
   "metadata": {},
   "source": [
    "## Problema 3"
   ]
  },
  {
   "cell_type": "code",
   "execution_count": 21,
   "metadata": {},
   "outputs": [
    {
     "name": "stdout",
     "output_type": "stream",
     "text": [
      "¡Hay un rayo de luz!\n",
      "¡Un asteroride se acerca!\n"
     ]
    }
   ],
   "source": [
    "velAsteriode = 30 #km/h\n",
    "tamanioAsteroide = 50  \n",
    "if velAsteriode >= 20 :\n",
    "    print(\"¡Hay un rayo de luz!\")\n",
    "    if velAsteriode > 25 and tamanioAsteroide < 25:\n",
    "        print(\"Pero todo cool\")\n",
    "    elif velAsteriode > 25 and tamanioAsteroide >25:\n",
    "        print(\"¡Un asteroride se acerca!\")\n",
    "elif velAsteriode < 20:\n",
    "    print(\"Hay un rayo de luz\")  \n",
    "else: print(\"Puedes seguir con tus actividades\")"
   ]
  }
 ],
 "metadata": {
  "interpreter": {
   "hash": "ecaf39059a5b5285570fd7ed435b7540c898c0cca20591b5f0e75624de01b87f"
  },
  "kernelspec": {
   "display_name": "Python 3.10.2 64-bit",
   "language": "python",
   "name": "python3"
  },
  "language_info": {
   "codemirror_mode": {
    "name": "ipython",
    "version": 3
   },
   "file_extension": ".py",
   "mimetype": "text/x-python",
   "name": "python",
   "nbconvert_exporter": "python",
   "pygments_lexer": "ipython3",
   "version": "3.10.2"
  },
  "orig_nbformat": 4
 },
 "nbformat": 4,
 "nbformat_minor": 2
}
